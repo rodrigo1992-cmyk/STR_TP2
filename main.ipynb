{
 "cells": [
  {
   "cell_type": "markdown",
   "metadata": {},
   "source": [
    "### 1. Importância da Visualização de Dados:\n",
    "Explique a importância da visualização de dados no contexto de uma pandemia como a COVID-19. Como essas visualizações podem ajudar gestores de saúde pública e a população em geral a tomar decisões informadas?"
   ]
  },
  {
   "cell_type": "markdown",
   "metadata": {},
   "source": [
    "A quantidade de aplicações para a visualização de dados no contexto de uma pandemia é vasta. No entanto, podemos destacar algumas abordagens importantes:\n",
    "- Mapear a evolução da doença, permitindo a observação de acentuações nas curvas de contágio e óbito.\n",
    "- Comparar o padrão de evolução da doença em diferentes localidades, facilitando a análise de tendências regionais.\n",
    "- Acompanhar a como diferentes contextos socioeconômicos afetam no padrão de contágio e de óbitos.\n",
    "- Utilizar dados georreferenciados para criar mapas de calor, permitindo visualizar aglutinações por proximidade e identificar áreas críticas."
   ]
  },
  {
   "cell_type": "markdown",
   "metadata": {},
   "source": [
    "### 2.Gráfico de Barras com Streamlit:\n",
    "Usando os dados de casos novos de COVID-19 por semana epidemiológica de notificação, crie um gráfico de barras em Streamlit que mostre a evolução semanal dos casos em um determinado estado. Indique o estado escolhido e explique sua escolha."
   ]
  },
  {
   "cell_type": "code",
   "execution_count": null,
   "metadata": {},
   "outputs": [],
   "source": [
    "%pip install --upgrade geopy seaborn streamlit altair plotly"
   ]
  },
  {
   "cell_type": "code",
   "execution_count": 6,
   "metadata": {},
   "outputs": [],
   "source": [
    "import pandas as pd\n",
    "import glob\n",
    "import numpy as np\n",
    "from geopy.geocoders import Photon\n",
    "import time\n",
    "\n",
    "\n",
    "df = pd.concat([pd.read_csv(f, sep=\";\") for f in glob.glob('Dados/Covid/*.csv')], ignore_index=True)\n",
    "\n",
    "#Criando colunas necessárias\n",
    "df['data'] = pd.to_datetime(df['data'])\n",
    "df['ano'] = df['data'].dt.year\n",
    "df['mes'] = df['data'].dt.to_period('M').astype(str)\n",
    "\n",
    "#Criando uma coluna que concatene a semana e o ano\n",
    "df['semanaEpi'] = np.where(df['semanaEpi'] < 10, \n",
    "                           '0' + df['semanaEpi'].astype(str), \n",
    "                           df['semanaEpi'].astype(str))\n",
    "\n",
    "df['semanaAno'] = df['ano'].astype(str) + '-' + df['semanaEpi']\n",
    "\n",
    "#Retirando campos desnecessários\n",
    "df = df.drop(columns=['semanaEpi','ano','coduf', 'codmun', 'codRegiaoSaude', 'nomeRegiaoSaude', 'interior/metropolitana','Recuperadosnovos','emAcompanhamentoNovos'])\n",
    "\n",
    "#salvando o dataset unificado em um arquivo para recuperar posteriormente\n",
    "df.to_csv('dados/covid.csv', index=False)"
   ]
  },
  {
   "cell_type": "code",
   "execution_count": 81,
   "metadata": {},
   "outputs": [
    {
     "name": "stdout",
     "output_type": "stream",
     "text": [
      "Overwriting app.py\n"
     ]
    }
   ],
   "source": [
    "%%writefile app.py\n",
    "\n",
    "import pandas as pd\n",
    "import matplotlib.pyplot as plt\n",
    "import numpy as np\n",
    "import streamlit as st\n",
    "import seaborn as sns\n",
    "import altair as alt\n",
    "import plotly.express as px\n",
    "import plotly.graph_objects as go\n",
    "from plotly.subplots import make_subplots\n",
    "import pydeck as pdk\n",
    "import math\n",
    "\n",
    "#Agrupando o dataset para que eu tenha apenas um registro por semana e estado\n",
    "uf = 'RJ'\n",
    "df_plot = pd.read_csv('dados/covid.csv')\n",
    "df_plot = df_plot[(df_plot['estado'] == uf)  & df_plot['municipio'].isnull()]\n",
    "df_plot = df_plot[['semanaAno', 'casosNovos']].groupby(['semanaAno']).sum().reset_index()\n",
    "df_plot = df_plot.sort_values('semanaAno')\n",
    "\n",
    "st.write('# 2.Gráfico de Barras com Streamlit')\n",
    "st.write('### Selecionado o estado do RJ por ser o meu estado de residência')\n",
    "\n",
    "#Plotando o gráfico\n",
    "plt.figure(figsize=(12, 4))\n",
    "plt.title(f'Novos casos de Covid-19 por semana no {uf} [Visão Incremental]')\n",
    "plt.bar(df_plot['semanaAno'], df_plot['casosNovos'])\n",
    "plt.ylabel('Casos Novos')\n",
    "plt.xlabel('Semana Epidemológica')\n",
    "\n",
    "#Ajustando os rótulos do eixo X para que não fiquem um por cima do outro\n",
    "x_ticks = plt.gca().get_xticks()\n",
    "x_labels = df_plot['semanaAno'].unique()\n",
    "plt.xticks(x_ticks[::4], x_labels[::4], rotation=90, size=6)\n",
    "st.pyplot(plt)"
   ]
  },
  {
   "cell_type": "markdown",
   "metadata": {},
   "source": [
    "### 3.Gráfico de Linha com Streamlit:\n",
    "Crie um gráfico de linha utilizando Streamlit para representar o número de óbitos acumulados por COVID-19 ao longo das semanas epidemiológicas de notificação para todo o Brasil. Explique como a curva de óbitos acumulados pode ser interpretada."
   ]
  },
  {
   "cell_type": "code",
   "execution_count": 83,
   "metadata": {},
   "outputs": [
    {
     "name": "stdout",
     "output_type": "stream",
     "text": [
      "Overwriting app.py\n"
     ]
    }
   ],
   "source": [
    "%%writefile app.py\n",
    "\n",
    "import pandas as pd\n",
    "import matplotlib.pyplot as plt\n",
    "import streamlit as st\n",
    "import seaborn as sns\n",
    "\n",
    "#Agrupando o dataset para que eu tenha apenas um registro por semana no Brasil\n",
    "regiao = 'Brasil'\n",
    "df_plot = pd.read_csv('dados/covid.csv')\n",
    "df_plot = df_plot[df_plot['regiao'] == regiao]\n",
    "df_plot = df_plot[['semanaAno', 'obitosAcumulado']].groupby(['semanaAno']).max().reset_index()\n",
    "df_plot = df_plot.sort_values('semanaAno')\n",
    "\n",
    "st.write('# 3.Gráfico de linha com Streamlit')\n",
    "st.write('### O abaixo gráfico apresenta o número de óbitos total no Brasil, desde o início da pandemia, separados por semana epidemiológica')\n",
    "\n",
    "#Plotando o gráfico\n",
    "plt.figure(figsize=(12, 4))\n",
    "plt.title(f'Óbitos de Covid-19 no Brasil por Semana Epidemológica  [Visão Acumulada]')\n",
    "sns.lineplot(x = df_plot['semanaAno'], y = df_plot['obitosAcumulado'])\n",
    "plt.ylabel('Óbitos')\n",
    "plt.xlabel('Semana Epidemológica')\n",
    "\n",
    "#Ajustando os rótulos do eixo X para que não fiquem um por cima do outro\n",
    "x_ticks = plt.gca().get_xticks()\n",
    "x_labels = df_plot['semanaAno'].unique()\n",
    "plt.xticks(x_ticks[::4], x_labels[::4], rotation=90, size=6)\n",
    "st.pyplot(plt)"
   ]
  },
  {
   "cell_type": "markdown",
   "metadata": {},
   "source": [
    "### 4.Gráfico de Área com Streamlit:\n",
    "Utilizando os dados de casos acumulados por COVID-19, crie um gráfico de área em Streamlit para comparar a evolução dos casos em três estados diferentes. Explique as diferenças observadas entre os estados escolhidos."
   ]
  },
  {
   "cell_type": "code",
   "execution_count": 84,
   "metadata": {},
   "outputs": [
    {
     "name": "stdout",
     "output_type": "stream",
     "text": [
      "Overwriting app.py\n"
     ]
    }
   ],
   "source": [
    "%%writefile app.py\n",
    "\n",
    "import pandas as pd\n",
    "import matplotlib.pyplot as plt\n",
    "import streamlit as st\n",
    "import seaborn as sns\n",
    "\n",
    "#Agrupando o dataset\n",
    "ufs = ['MG','RJ','ES']\n",
    "df_plot = pd.read_csv('dados/covid.csv')\n",
    "df_plot = df_plot[(df_plot['estado'].isin(ufs)) & df_plot['municipio'].isnull()]\n",
    "df_plot = df_plot[['estado', 'mes', 'casosAcumulado']].groupby(['estado', 'mes']).max().reset_index()\n",
    "df_plot= df_plot.sort_values('mes')\n",
    "\n",
    "st.write('# 4.Gráfico de Área com Streamlit')\n",
    "st.write('Comparativo entre RJ, ES e MG')\n",
    "st.write('Se observa uma curva de contágio semelhante entre os estados da região sudeste, apesar de MG apresentar uma aceleração maior no primeiro semestre de 2020. Também é possível observar um pico em janeiro de 2022, após festas de final de ano, e a entrada em um platô a partir de janeiro de 2023.')\n",
    "\n",
    "#Plotando o gráfico\n",
    "plt.figure(figsize=(12, 4))\n",
    "plt.title('Evolução dos casos de COVID-19 na região sudeste (Exceto SP)')\n",
    "for estado in ufs:\n",
    "    df_uf = df_plot[df_plot['estado'] == estado]\n",
    "    plt.fill_between(df_uf['mes'].astype(str), df_uf['casosAcumulado'], label=estado, alpha=0.8)\n",
    "\n",
    "plt.xticks(rotation=90)\n",
    "plt.legend(title='Estado')\n",
    "plt.tight_layout()\n",
    "st.pyplot(plt)"
   ]
  },
  {
   "cell_type": "markdown",
   "metadata": {},
   "source": [
    "### 5.Mapa com Streamlit:\n",
    "Crie um mapa interativo utilizando a função st.map do Streamlit que mostre a distribuição dos casos acumulados de COVID-19 por município em um estado específico. Explique como esse tipo de visualização pode ajudar na análise geográfica da pandemia."
   ]
  },
  {
   "cell_type": "code",
   "execution_count": 42,
   "metadata": {},
   "outputs": [],
   "source": [
    "#Deixando guardada uma base com as coordenadas geográficas dos municípios do RJ\n",
    "\n",
    "df = pd.read_csv('Dados\\covid.csv')\n",
    "df_plot = df[(df['data'] == max(df['data'])) & (df['estado'] == 'RJ')].copy()\n",
    "\n",
    "geolocator = Photon(user_agent=\"measurements\")\n",
    "\n",
    "df_plot['latitude'],df_plot['longitude'] = None, None\n",
    "\n",
    "for index, row in df_plot.iterrows():\n",
    "    time.sleep(1) \n",
    "    location = geolocator.geocode(f\"{row['municipio']}, Rio de Janeiro, Brazil\", timeout=15)\n",
    "    if location:\n",
    "        df_plot.loc[index, 'latitude'] = location.latitude\n",
    "        df_plot.loc[index, 'longitude'] = location.longitude\n",
    "\n",
    "df_plot.to_csv('Dados\\df_rj_lat_long.csv', index=False)"
   ]
  },
  {
   "cell_type": "code",
   "execution_count": 85,
   "metadata": {},
   "outputs": [
    {
     "name": "stdout",
     "output_type": "stream",
     "text": [
      "Overwriting app.py\n"
     ]
    }
   ],
   "source": [
    "%%writefile app.py\n",
    "\n",
    "import pandas as pd\n",
    "import matplotlib.pyplot as plt\n",
    "import streamlit as st\n",
    "\n",
    "\n",
    "df_plot = pd.read_csv('Dados\\df_rj_lat_long.csv')\n",
    "df_plot = df_plot[df_plot['municipio'].notnull()]\n",
    "df_plot = df_plot.dropna(subset=['latitude', 'longitude'])\n",
    "\n",
    "#Reduzi o tamanho dos pontos para que não fiquem muito grandes\n",
    "df_plot['size'] = (df_plot['casosAcumulado'] /  max(df_plot['casosAcumulado'])) * 10000\n",
    "\n",
    "st.write('# 5.Mapa com Streamlit')\n",
    "st.write(\"### Total de Casos por COVID-19\")\n",
    "st.write(\"Plotar dados georeferenciados pode auxiliar a observar aglutinações por proximidade.\")\n",
    "st.map(df_plot, latitude = 'latitude', longitude = 'longitude', size = 'size')"
   ]
  },
  {
   "cell_type": "markdown",
   "metadata": {},
   "source": [
    "### 6.Visualização com Matplotlib:\n",
    "Utilize a biblioteca Matplotlib para criar um gráfico de barras que mostre a comparação entre os casos novos e os óbitos novos de COVID-19 por estado na semana epidemiológica mais recente disponível. Explique o que os dados sugerem sobre a relação entre casos e óbitos."
   ]
  },
  {
   "cell_type": "code",
   "execution_count": 86,
   "metadata": {},
   "outputs": [
    {
     "name": "stdout",
     "output_type": "stream",
     "text": [
      "Overwriting app.py\n"
     ]
    }
   ],
   "source": [
    "%%writefile app.py\n",
    "\n",
    "import pandas as pd\n",
    "import matplotlib.pyplot as plt\n",
    "import streamlit as st\n",
    "\n",
    "df_plot = pd.read_csv('dados/covid.csv')\n",
    "#Total de cada estado\n",
    "df_plot = df_plot[(df_plot['municipio'].isnull()) & (df_plot['estado'].notnull())]\n",
    "\n",
    "#Selecionando a semana mais recente\n",
    "semana = max(df_plot['semanaAno'])\n",
    "df_plot = df_plot[df_plot['semanaAno'] == semana]\n",
    "\n",
    "#Somar os casos da semana mais recente\n",
    "df_plot = df_plot[['estado', 'semanaAno','casosNovos','obitosNovos']].groupby(['estado', 'semanaAno']).sum().reset_index()\n",
    "df_plot = df_plot.sort_values('casosNovos', ascending=False)\n",
    "\n",
    "st.write('# 6.Visualização com Matplotlib')\n",
    "st.write('Apesar de SP possuir o maior número de casos e de óbitos, não observei uma relação proporcional para os demais estados. Também é possível que os obitos observados sejam referentes aos casos de semanas anteriores.')\n",
    "\n",
    "#Plotando o gráfico\n",
    "plt.figure(figsize=(12, 4))\n",
    "plt.title(f'Comparação de casos e óbitos por estado na semana epidemológica de {semana}')\n",
    "\n",
    "# Posicionando as barras\n",
    "x = range(len(df_plot['estado']))\n",
    "largura = 0.35\n",
    "barra_casos = plt.bar(x, df_plot['casosNovos'], width=largura, label='Casos Novos', color='blue')\n",
    "barra_obitos = plt.bar([i + largura for i in x], df_plot['obitosNovos'], width=largura, label='Óbitos Novos', color='red')\n",
    "\n",
    "# Adicionando rótulos de dados\n",
    "for barra in barra_casos:\n",
    "    altura = barra.get_height()\n",
    "    plt.text(\n",
    "        x = barra.get_x() + barra.get_width()/2, \n",
    "        y = altura, \n",
    "        s = altura,\n",
    "        fontsize=7,\n",
    "        ha='center', va='bottom'\n",
    "        )\n",
    "\n",
    "for barra in barra_obitos:\n",
    "    altura = barra.get_height()\n",
    "    plt.text(\n",
    "        x = barra.get_x() + barra.get_width()/2, \n",
    "        y = altura, \n",
    "        s = altura,\n",
    "        fontsize=7,\n",
    "        ha='center', va='bottom'\n",
    "        )\n",
    "\n",
    "# Ajustando os rótulos do eixo X\n",
    "plt.xticks([i + largura / 2 for i in x], df_plot['estado'], rotation=45)\n",
    "\n",
    "st.pyplot(plt)"
   ]
  },
  {
   "cell_type": "markdown",
   "metadata": {},
   "source": [
    "### 7.Boxplot com Seaborn:\n",
    "Usando a biblioteca Seaborn, crie um boxplot que compare a distribuição dos casos novos de COVID-19 por semana epidemiológica entre três regiões do Brasil (Norte, Nordeste, Sudeste). Explique as principais diferenças observadas."
   ]
  },
  {
   "cell_type": "code",
   "execution_count": 93,
   "metadata": {},
   "outputs": [
    {
     "name": "stdout",
     "output_type": "stream",
     "text": [
      "Overwriting app.py\n"
     ]
    }
   ],
   "source": [
    "%%writefile app.py\n",
    "\n",
    "import pandas as pd\n",
    "import matplotlib.pyplot as plt\n",
    "import streamlit as st\n",
    "import seaborn as sns\n",
    "\n",
    "df_plot = pd.read_csv('dados/covid.csv')\n",
    "#Filtrando apenas as regiões desejadas\n",
    "df_plot = df_plot[df_plot['regiao'].isin(['Norte','Nordeste','Sudeste'])]\n",
    "#Deixando apenas o total de cada estado\n",
    "df_plot = df_plot[df_plot['municipio'].isnull()]\n",
    "#Retirei os valores negativos pois se tratam de correções sobre o calculo acumulado, não existindo notificação negativa.\n",
    "df_plot = df_plot[df_plot['casosNovos'] >= 0]\n",
    "\n",
    "#Agregando por região\n",
    "df_plot = df_plot[['regiao', 'semanaAno','casosNovos']].groupby(['regiao', 'semanaAno']).sum().reset_index()\n",
    "\n",
    "st.write('# 7.Boxplot com Seaborn')\n",
    "st.write('Se observa um grande contraste entre o número de casos reportados semanalmente na região Sudeste e as demais regiões. A diferença é tão expressiva que a mediana da região sudeste quase alcança o terceiro quartil do Nordeste e o limite superior da região Norte. Entretanto, esse plot não é adequado para comparar o nível epidêmico em cada região, pois a população das 3 regiões é bem distinta (Sudeste ~84Mi, Nordeste ~54Mi, Norte ~17Mi). Para uma comparação mais adequada deveria ser calculada a proporção de casos em relação à população total de habitantes de cada região, por exemplo, o número de casos a cada mil habitantes.')\n",
    "\n",
    "#criando um boxplot com seaborn\n",
    "plt.figure(figsize=(12, 4))\n",
    "plt.title(f'Distribuição de casos novos por semana epidemiológica nas regiões Norte, Nordeste e Sudeste')\n",
    "sns.boxplot(data=df_plot, x='casosNovos', y='regiao')\n",
    "st.pyplot(plt)"
   ]
  },
  {
   "cell_type": "markdown",
   "metadata": {},
   "source": [
    "### 8.Gráfico de Área com Altair:\n",
    "Crie um gráfico de área em Altair para mostrar a evolução dos casos novos de COVID-19 por semana epidemiológica de notificação em uma determinada região do Brasil. Explique a escolha da região e as tendências observadas nos dados."
   ]
  },
  {
   "cell_type": "code",
   "execution_count": 94,
   "metadata": {},
   "outputs": [
    {
     "name": "stdout",
     "output_type": "stream",
     "text": [
      "Overwriting app.py\n"
     ]
    }
   ],
   "source": [
    "%%writefile app.py\n",
    "\n",
    "import matplotlib.pyplot as plt\n",
    "import altair as alt\n",
    "import pandas as pd\n",
    "import streamlit as st\n",
    "\n",
    "#Agrupando o dataset para que eu tenha apenas um registro por semana e estado\n",
    "df_plot = pd.read_csv('dados/covid.csv')\n",
    "df_plot = df_plot[(df_plot['regiao'] == 'Sudeste') & (df_plot['municipio'].isnull())]\n",
    "df_plot = df_plot[['estado','semanaAno', 'casosNovos']].groupby(['estado','semanaAno']).sum().reset_index()\n",
    "df_plot = df_plot.sort_values('semanaAno')\n",
    "\n",
    "st.write('# 8.Gráfico de Área com Altair')\n",
    "st.write('### Seguindo o padrão dos exercícios anteriores, selecionei o Sudeste por ser a região onde resido')\n",
    "st.write('Se observa que São Paulo, em parte pelo tamanho de sua população, se manteve com número de contágio semanal bem superior às demais UFs desde o começo da pandemia, inclusive, tendo uma aceleração de contágio mais agravada do que as outras UFs entre o início da pandemia e a semana 33 de 2020. O mesmo comportamento pode ser observado novamente entre a semana 1 (pós festas) e a semana 24 de 2021. Apesar disso, se manteve controlada nas semanas 3 a 6 de 2022, enquanto RJ e MG apresentaram o maior pico histórico, com mais de 160mil novos casos, superando até mesmo a máxima histórica de 120mil casos em SP. Após este pico, todos os UFs entraram em declínio do número de casos, e apesar da diferença populacional, todas se mantiveram em um patamar similar, demonstrando um melhor controle da pandemia no estado de SP em relação às demais UFs.')\n",
    "\n",
    "#Plotando o gráfico de área com altair\n",
    "grafico = (\n",
    "    alt.Chart(df_plot).mark_area().encode(\n",
    "        x=alt.X('semanaAno:N', \n",
    "                axis=alt.Axis(labelOverlap='greedy') #Ajustei para que os rótulos não se sobreponham\n",
    "                ),\n",
    "        y=alt.Y('casosNovos:Q', stack=None),\n",
    "        color=alt.Color('estado:N', legend=alt.Legend(title='Estado')),\n",
    "        opacity=alt.value(0.7),\n",
    "        tooltip=['estado:N', 'semanaAno:O', 'casosNovos:Q']\n",
    "    ).properties(\n",
    "        title='Novos casos de Covid-19 por semana na região Sudeste',\n",
    "        width=1000,\n",
    "        height=400,\n",
    "    )\n",
    ")\n",
    "\n",
    "st.altair_chart(grafico)\n"
   ]
  },
  {
   "cell_type": "markdown",
   "metadata": {},
   "source": [
    "### 9.Heatmap com Altair:\n",
    "Desenvolva um heatmap em Altair que mostre a correlação entre casos novos, óbitos novos e leitos hospitalares ocupados (caso os dados estejam disponíveis) em um determinado estado. Explique as possíveis correlações observadas."
   ]
  },
  {
   "cell_type": "code",
   "execution_count": 97,
   "metadata": {},
   "outputs": [
    {
     "name": "stdout",
     "output_type": "stream",
     "text": [
      "Overwriting app.py\n"
     ]
    }
   ],
   "source": [
    "%%writefile app.py\n",
    "\n",
    "import matplotlib.pyplot as plt\n",
    "import altair as alt\n",
    "import pandas as pd\n",
    "import streamlit as st\n",
    "import numpy as np\n",
    "\n",
    "df_plot = pd.read_csv('dados/covid.csv')\n",
    "df_plot = df_plot[(df_plot['estado'] == 'RJ') & (df_plot['municipio'].isnull())]\n",
    "\n",
    "#Tratei os valores negativos pois se tratam de correções sobre o calculo acumulado, não existindo notificação negativa.\n",
    "df_plot['casosNovos'] = np.where(df_plot['casosNovos'] < 0, 0, df_plot['casosNovos'])\n",
    "df_plot['data'] = pd.to_datetime(df_plot['data'])\n",
    "df_plot['trimestre'] = df_plot['data'].dt.to_period('Q').astype(str)\n",
    "\n",
    "st.write('# 9.Heatmap com Altair')\n",
    "st.write('A base de leitos hospitalares não estava disponível no DataSus, portanto prossegui com uma correlação entre casos e óbitos por mês. Em 2021 é possível observar um agravamento do número de óbitos de acordo com a número de novos casos, situação que já não ocorre mais a partir de janeiro de 2022, momento em que a grande massa da população do Rio de Janeiro já havia recebido a primeira dose de vacina.')\n",
    "\n",
    "grafico = (\n",
    "    alt.Chart(df_plot).mark_rect().encode(\n",
    "        x=alt.X('trimestre:N', sort='ascending'),\n",
    "        y=alt.Y('casosNovos:O', sort='descending').bin(maxbins=100),\n",
    "        color='obitosNovos:Q'\n",
    "    ).properties(\n",
    "        title='Correlação entre casos e óbitos por quarter no RJ',\n",
    "        width=600,\n",
    "        height=400,\n",
    "    )\n",
    ")\n",
    "st.altair_chart(grafico)\n"
   ]
  },
  {
   "cell_type": "markdown",
   "metadata": {},
   "source": [
    "### 10.Gráfico de Pizza com Plotly:\n",
    "Usando Plotly, crie um gráfico de pizza (pie chart) que mostre a distribuição percentual dos casos acumulados de COVID-19 entre as cinco regiões do Brasil. Explique o que os dados revelam sobre a distribuição geográfica dos casos."
   ]
  },
  {
   "cell_type": "code",
   "execution_count": 105,
   "metadata": {},
   "outputs": [
    {
     "name": "stdout",
     "output_type": "stream",
     "text": [
      "Overwriting app.py\n"
     ]
    }
   ],
   "source": [
    "%%writefile app.py\n",
    "\n",
    "import plotly.express as px\n",
    "import pandas as pd\n",
    "import streamlit as st\n",
    "\n",
    "df_plot = pd.read_csv('dados/covid.csv')\n",
    "\n",
    "df_plot = df_plot[df_plot['regiao'] != 'Brasil']\n",
    "df_plot = df_plot[df_plot['municipio'].isnull()]\n",
    "\n",
    "#Pegando a última data\n",
    "df_plot = df_plot[df_plot['data'] == max(df_plot['data'])]\n",
    "df_plot = df_plot[['regiao', 'casosAcumulado']].groupby('regiao').sum().reset_index()\n",
    "\n",
    "#Criando os rótulos com abreviação da região e percentual\n",
    "df_plot['perc'] = df_plot['casosAcumulado'] / sum(df_plot['casosAcumulado'])\n",
    "df_plot['perc'] = (df_plot['perc']*100).round().astype(int).astype(str) + '%'\n",
    "df_plot['round'] = round(df_plot['casosAcumulado'] / 1000000, 2)\n",
    "\n",
    "cmap = {\n",
    "    'Norte': 'N',\n",
    "    'Nordeste': 'NE',\n",
    "    'Centro-Oeste': 'CO',\n",
    "    'Sudeste': 'SE',\n",
    "    'Sul': 'S'\n",
    "}\n",
    "\n",
    "df_plot['regiao'] = df_plot['regiao'].replace(cmap)\n",
    "df_plot['label'] = df_plot['regiao'] + ': ' + df_plot['round'].astype(str) + 'Mi'\n",
    "df_plot.sort_values('casosAcumulado', ascending=False, inplace=True)\n",
    "\n",
    "st.write('# 10.Gráfico de Piza com Plotly')\n",
    "st.write('Se observa que a região sudeste concentrou 40% de todos os casos de Covid no Brasil, praticamente o dobro da região sul, a segunda colocada. Se compararmos ao número de habitantes de cada região, o número de casos no Sul é equivalente a 27% de sua população (~30Mi hab.), enquanto no Sudeste é equivalente a 17% (~85Mi hab.) e no Nordeste 14% (55Mi hab.).')\n",
    "\n",
    "\n",
    "# Criando o gráfico de pizza\n",
    "fig = px.pie(\n",
    "    df_plot,\n",
    "    values='casosAcumulado',\n",
    "    names='regiao',\n",
    "    title='Total de casos por região',\n",
    "    labels={'casosAcumulado': 'Total de Casos', 'regiao': 'Região'},\n",
    "    hole=False,\n",
    "    color_discrete_sequence = ['#FF5733', '#33FF57', '#3357FF', '#F1C40F', '#8E44AD'] \n",
    ")\n",
    "\n",
    "fig.update_traces(textinfo='label+percent', textfont_size=10)\n",
    "\n",
    "st.plotly_chart(fig)"
   ]
  },
  {
   "cell_type": "markdown",
   "metadata": {},
   "source": [
    "### 11.Subplots com Plotly:\n",
    "Crie subplots em Plotly que mostrem, lado a lado, gráficos de barras comparando os casos novos e os óbitos novos de COVID-19 por semana epidemiológica em duas diferentes regiões do Brasil. Explique as diferenças observadas entre as regiões."
   ]
  },
  {
   "cell_type": "code",
   "execution_count": 109,
   "metadata": {},
   "outputs": [
    {
     "name": "stdout",
     "output_type": "stream",
     "text": [
      "Overwriting app.py\n"
     ]
    }
   ],
   "source": [
    "%%writefile app.py\n",
    "\n",
    "import plotly.express as px\n",
    "import pandas as pd\n",
    "import streamlit as st\n",
    "import numpy as np\n",
    "from plotly.subplots import make_subplots\n",
    "import plotly.graph_objects as go\n",
    "\n",
    "df_plot = pd.read_csv('dados/covid.csv')\n",
    "#Total de cada estado\n",
    "df_plot = df_plot[(df_plot['municipio'].isnull()) & (df_plot['regiao'].isin(['Sul','Sudeste']))]\n",
    "\n",
    "#Agrupando e tratando valores negativos\n",
    "df_plot = df_plot[['regiao', 'semanaAno','casosNovos','obitosNovos']].groupby(['regiao', 'semanaAno']).sum().reset_index()\n",
    "df_plot['casosNovos'] = np.where(df_plot['casosNovos'] < 0, 0, df_plot['casosNovos'])\n",
    "df_plot['obitosNovos'] = np.where(df_plot['obitosNovos'] < 0, 0, df_plot['obitosNovos'])\n",
    "df_plot = df_plot.sort_values('semanaAno', ascending=True)\n",
    "\n",
    "df_se = df_plot[df_plot['regiao'] == 'Sudeste']\n",
    "df_su = df_plot[df_plot['regiao'] == 'Sul']\n",
    "\n",
    "st.write('# 11.Subplots com Plotly')\n",
    "st.write('Em números absolutos de novos casos se observam curvas semelhantes para as regiões sul e sudeste. Para óbitos se observa um patamar elevado para o Sudeste no início da pandemia, que se mantém durante todo o primeiro semestre de 2021, representando aproximadamente o dobro de óbitos por semana em relação à região sul, o mesmo volta a ocorrer no primeiro semestre de 2022. Também se observa que ambas as regiões apresentam os mesmos períodos de picos, com picos de contaminação em outubro 2021 e abril 2022, sendo seguidos por picos de óbitos nos meses seguintes, em dezembro 2021 e julho 2022.')\n",
    "\n",
    "#Plotando gráfico com Altair\n",
    "fig = make_subplots(rows=1, cols=2)\n",
    "\n",
    "#-----------Gráfico 1---------------\n",
    "#Sudeste\n",
    "fig.add_trace(\n",
    "    go.Bar(name='Sudeste', x=df_se[\"semanaAno\"], y=df_se[\"casosNovos\"], yaxis='y', offsetgroup=1),\n",
    "    row=1, col=1\n",
    ")\n",
    "#Sul\n",
    "fig.add_trace(\n",
    "    go.Bar(name='Sul', x=df_su[\"semanaAno\"], y=df_su[\"casosNovos\"], yaxis='y', offsetgroup=2),\n",
    "    row=1, col=1\n",
    ")\n",
    "\n",
    "#-----------Gráfico 2---------------\n",
    "#Sudeste\n",
    "fig.add_trace(\n",
    "    go.Bar(name='Sudeste', x=df_se[\"semanaAno\"], y=df_se[\"obitosNovos\"], yaxis='y2', offsetgroup=1),\n",
    "    row=1, col=2\n",
    ")\n",
    "#Sul\n",
    "fig.add_trace(\n",
    "    go.Bar(name='Sul', x=df_su[\"semanaAno\"], y=df_su[\"obitosNovos\"], yaxis='y2', offsetgroup=2),\n",
    "    row=1, col=2\n",
    ")\n",
    "\n",
    "fig.update_layout(barmode='group',\n",
    "                  title_text='Comparativo de Covid-19 entre Sul e Sudeste por semana epidemológica',\n",
    "                  yaxis_title='Casos',\n",
    "                  yaxis2_title='Óbitos')\n",
    "\n",
    "st.plotly_chart(fig)"
   ]
  },
  {
   "cell_type": "markdown",
   "metadata": {},
   "source": [
    "### 12.Mapa Interativo com PyDeck:\n",
    "Utilize PyDeck para criar um mapa interativo que mostre a densidade populacional ajustada para os casos acumulados de COVID-19 por município em uma determinada região do Brasil. Explique como a densidade populacional pode influenciar a disseminação da COVID-19."
   ]
  },
  {
   "cell_type": "code",
   "execution_count": 16,
   "metadata": {},
   "outputs": [],
   "source": [
    "#Deixando guardada uma base com as coordenadas geográficas dos municípios do RJ\n",
    "\n",
    "df_plot = pd.read_csv('dados/covid.csv')\n",
    "\n",
    "#Apenas municípios da região sudeste\n",
    "df_plot = df_plot[(df_plot['municipio'].notnull()) & (df_plot['regiao'] == 'Sudeste')]\n",
    "\n",
    "#Data mais recente\n",
    "df_plot = df_plot[df_plot['data'] == max(df_plot['data'])]\n",
    "\n",
    "#Agrupando \n",
    "df_plot = df_plot[['estado', 'municipio', 'populacaoTCU2019','casosAcumulado']].groupby(['estado','municipio']).sum().reset_index()\n",
    "\n",
    "#dividir a populacaoTCU2019 pelo número de casos acumulado\n",
    "df_plot['casos_por_cem_mil'] = (df_plot['casosAcumulado'] / df_plot['populacaoTCU2019']) * 100000\n",
    "\n",
    "#De/Para de siglas para nomes dos estados\n",
    "ufs = {\n",
    "    'Estado': [\n",
    "        'Acre', 'Alagoas', 'Amapá', 'Amazonas', 'Bahia', 'Ceará',\n",
    "        'Espírito Santo', 'Goiás', 'Maranhão', 'Mato Grosso',\n",
    "        'Mato Grosso do Sul', 'Minas Gerais', 'Pará', 'Paraíba',\n",
    "        'Paraná', 'Pernambuco', 'Piauí', 'Rio de Janeiro',\n",
    "        'Rio Grande do Norte', 'Rio Grande do Sul', 'Rondônia',\n",
    "        'Roraima', 'Santa Catarina', 'São Paulo', 'Sergipe', 'Tocantins'\n",
    "    ],\n",
    "    'Sigla': [\n",
    "        'AC', 'AL', 'AP', 'AM', 'BA', 'CE', 'ES', 'GO', 'MA', 'MT',\n",
    "        'MS', 'MG', 'PA', 'PB', 'PR', 'PE', 'PI', 'RJ', 'RN', 'RS',\n",
    "        'RO', 'RR', 'SC', 'SP', 'SE', 'TO'\n",
    "    ]\n",
    "}\n",
    "\n",
    "df_ufs = pd.DataFrame(ufs)\n",
    "\n",
    "substituicoes = dict(zip(df_ufs['Sigla'], df_ufs['Estado']))\n",
    "\n",
    "# Substituindo as siglas pelos nomes dos estados para melhorar o geocoding\n",
    "df_plot['estado'] = df_plot['estado'].replace(substituicoes)\n"
   ]
  },
  {
   "cell_type": "code",
   "execution_count": 17,
   "metadata": {},
   "outputs": [],
   "source": [
    "#Obtendo coordenadas geográficas\n",
    "geolocator = Photon(user_agent=\"measurements\")\n",
    "\n",
    "df_plot['latitude'],df_plot['longitude'] = None, None\n",
    "\n",
    "for index, row in df_plot.iterrows():\n",
    "    time.sleep(1) \n",
    "    location = geolocator.geocode(f\"{row['municipio']}, {row['estado']}, Brazil\", timeout=15)\n",
    "    if location:\n",
    "        df_plot.loc[index, 'latitude'] = location.latitude\n",
    "        df_plot.loc[index, 'longitude'] = location.longitude\n",
    "\n",
    "df_plot.to_csv('Dados/df_sud_lat_long.csv', index=False)"
   ]
  },
  {
   "cell_type": "code",
   "execution_count": 112,
   "metadata": {},
   "outputs": [
    {
     "name": "stdout",
     "output_type": "stream",
     "text": [
      "Overwriting app.py\n"
     ]
    }
   ],
   "source": [
    "%%writefile app.py\n",
    "\n",
    "import plotly.express as px\n",
    "import pandas as pd\n",
    "import streamlit as st\n",
    "import numpy as np\n",
    "from plotly.subplots import make_subplots\n",
    "import plotly.graph_objects as go\n",
    "import pydeck as pdk\n",
    "import math\n",
    "\n",
    "df_plot = pd.read_csv('Dados\\df_sud_lat_long.csv')\n",
    "\n",
    "st.write('# 12.Mapa Interativo com PyDeck')\n",
    "st.write('Doenças contagiosas tem maior chance de proliferação em locais com maior densidade populacional. Para este mapa foi feito um ajuste da quantidade de casos dividido pela quantidade de habitantes de cada município, de forma ater uma visão clara do impacto proporcional da pandemia em cada localidade.')\n",
    "\n",
    "# Reduzindo a escala\n",
    "df_plot[\"radius\"] = df_plot[\"casos_por_cem_mil\"].apply(lambda count: math.sqrt(count))\n",
    "\n",
    "layer = pdk.Layer(\n",
    "    \"ScatterplotLayer\",\n",
    "    df_plot,\n",
    "    pickable=True,\n",
    "    opacity=0.05,\n",
    "    stroked=False,\n",
    "    filled=True,\n",
    "    radius_scale=50,\n",
    "    radius_min_pixels=1,\n",
    "    radius_max_pixels=100,\n",
    "    line_width_min_pixels=1,\n",
    "    get_position=['longitude', 'latitude'],\n",
    "    get_radius=[\"radius\"],\n",
    "    get_fill_color=[237, 28, 36],\n",
    "    get_line_color=[0, 0, 0]\n",
    ")\n",
    "\n",
    "view_state = pdk.ViewState(latitude=-19.637148, longitude=-44.338077, zoom=4.9, bearing=0, pitch=0)\n",
    "\n",
    "r = pdk.Deck(layers=[layer], initial_view_state=view_state)\n",
    "r.to_html(\"scatterplot_layer.html\")\n",
    "\n",
    "st.pydeck_chart(r)"
   ]
  }
 ],
 "metadata": {
  "kernelspec": {
   "display_name": "Python 3",
   "language": "python",
   "name": "python3"
  },
  "language_info": {
   "codemirror_mode": {
    "name": "ipython",
    "version": 3
   },
   "file_extension": ".py",
   "mimetype": "text/x-python",
   "name": "python",
   "nbconvert_exporter": "python",
   "pygments_lexer": "ipython3",
   "version": "3.11.3"
  }
 },
 "nbformat": 4,
 "nbformat_minor": 2
}
